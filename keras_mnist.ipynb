{
 "cells": [
  {
   "cell_type": "code",
   "execution_count": 18,
   "metadata": {
    "collapsed": true
   },
   "outputs": [],
   "source": [
    "import numpy as np\n",
    "import matplotlib.pyplot as plt"
   ]
  },
  {
   "cell_type": "code",
   "execution_count": 19,
   "metadata": {},
   "outputs": [],
   "source": [
    "from keras.models import Sequential\n",
    "from keras.layers import Dense, Dropout, Activation, Flatten"
   ]
  },
  {
   "cell_type": "code",
   "execution_count": 20,
   "metadata": {
    "collapsed": true
   },
   "outputs": [],
   "source": [
    "from keras.layers import Convolution2D, MaxPooling2D\n",
    "from keras.utils import np_utils"
   ]
  },
  {
   "cell_type": "code",
   "execution_count": 21,
   "metadata": {},
   "outputs": [],
   "source": [
    "#load mnist dataset\n",
    "from keras.datasets import mnist\n",
    "(x_tr, y_tr), (x_t, y_t) = mnist.load_data()"
   ]
  },
  {
   "cell_type": "code",
   "execution_count": 22,
   "metadata": {},
   "outputs": [
    {
     "name": "stdout",
     "output_type": "stream",
     "text": [
      "Shape of input:\n",
      "(60000, 28, 28)\n",
      "Shape of target:\n",
      "(60000,)\n",
      "Shape of test input:\n",
      "(10000, 28, 28)\n",
      "Shape of test target:\n",
      "(10000,)\n"
     ]
    }
   ],
   "source": [
    "#check shape of input size and target\n",
    "print(\"Shape of input:\")\n",
    "print(x_tr.shape)\n",
    "print(\"Shape of target:\")\n",
    "print(y_tr.shape)\n",
    "print(\"Shape of test input:\")\n",
    "print(x_t.shape)\n",
    "print(\"Shape of test target:\")\n",
    "print(y_t.shape)"
   ]
  },
  {
   "cell_type": "code",
   "execution_count": 23,
   "metadata": {},
   "outputs": [
    {
     "data": {
      "image/png": "[encoded data removed]",
      "text/plain": [
       "<matplotlib.figure.Figure at 0x7fd7940bcc10>"
      ]
     },
     "metadata": {},
     "output_type": "display_data"
    }
   ],
   "source": [
    "plt.imshow(x_tr[1], cmap='gray')\n",
    "plt.show()"
   ]
  },
  {
   "cell_type": "code",
   "execution_count": 24,
   "metadata": {
    "collapsed": true
   },
   "outputs": [],
   "source": [
    "#transform data , define depth =1 for grayscale images\n",
    "x_tr = x_tr.reshape(x_tr.shape[0], 1, 28, 28)\n",
    "x_t = x_t.reshape(x_t.shape[0], 1, 28, 28)"
   ]
  },
  {
   "cell_type": "code",
   "execution_count": 25,
   "metadata": {},
   "outputs": [
    {
     "name": "stdout",
     "output_type": "stream",
     "text": [
      "<type 'numpy.ndarray'>\n"
     ]
    }
   ],
   "source": [
    "print(type(x_tr))"
   ]
  },
  {
   "cell_type": "code",
   "execution_count": 26,
   "metadata": {
    "collapsed": true
   },
   "outputs": [],
   "source": [
    "#convert data type into float \n",
    "x_tr = x_tr.astype('float32')\n",
    "x_t = x_t.astype('float32')\n",
    "x_tr /= 255\n",
    "x_t /= 255"
   ]
  },
  {
   "cell_type": "code",
   "execution_count": 27,
   "metadata": {
    "collapsed": true
   },
   "outputs": [],
   "source": [
    "#convert labels into one-hot vector\n",
    "y_tr = np_utils.to_categorical(y_tr, 10)\n",
    "y_t = np_utils.to_categorical(y_t, 10)"
   ]
  },
  {
   "cell_type": "code",
   "execution_count": 28,
   "metadata": {},
   "outputs": [
    {
     "name": "stdout",
     "output_type": "stream",
     "text": [
      "[ 1.  0.  0.  0.  0.  0.  0.  0.  0.  0.]\n"
     ]
    }
   ],
   "source": [
    "print(y_tr[1])"
   ]
  },
  {
   "cell_type": "code",
   "execution_count": 29,
   "metadata": {},
   "outputs": [
    {
     "name": "stderr",
     "output_type": "stream",
     "text": [
      "/usr/local/lib/python2.7/dist-packages/ipykernel_launcher.py:4: UserWarning: Update your `Conv2D` call to the Keras 2 API: `Conv2D(32, (3, 3), activation=\"relu\", data_format=\"channels_first\", input_shape=(1, 28, 28...)`\n",
      "  after removing the cwd from sys.path.\n"
     ]
    }
   ],
   "source": [
    "#model\n",
    "\n",
    "model = Sequential()\n",
    "model.add(Convolution2D(32,(3,3),activation='relu', input_shape=(1,28,28), dim_ordering='th'))\n",
    "model.add(Convolution2D(32,(3,3),activation='relu'))\n",
    "model.add(MaxPooling2D(pool_size=(2,2)))\n",
    "model.add(Dropout(0.25))\n",
    "\n",
    "\n",
    "model.add(Flatten())\n",
    "model.add(Dense(128, activation='relu'))\n",
    "model.add(Dropout(0.5))\n",
    "model.add(Dense(10,activation='softmax'))\n"
   ]
  },
  {
   "cell_type": "code",
   "execution_count": null,
   "metadata": {
    "collapsed": true
   },
   "outputs": [],
   "source": [
    "#compile the model\n",
    "model.compile(loss='categorical_crossentropy',\n",
    "             optimizer='adam',\n",
    "             metrics=['accuracy'])"
   ]
  },
  {
   "cell_type": "code",
   "execution_count": null,
   "metadata": {},
   "outputs": [
    {
     "name": "stdout",
     "output_type": "stream",
     "text": [
      "Epoch 1/20\n",
      "60000/60000 [==============================] - 22s - loss: 0.2835 - acc: 0.9143    \n",
      "Epoch 2/20\n",
      "60000/60000 [==============================] - 22s - loss: 0.1112 - acc: 0.9679    \n",
      "Epoch 3/20\n",
      "60000/60000 [==============================] - 22s - loss: 0.0824 - acc: 0.9757    \n",
      "Epoch 4/20\n",
      "60000/60000 [==============================] - 22s - loss: 0.0690 - acc: 0.9790    \n",
      "Epoch 5/20\n",
      "60000/60000 [==============================] - 22s - loss: 0.0597 - acc: 0.9819    \n",
      "Epoch 6/20\n",
      "60000/60000 [==============================] - 22s - loss: 0.0510 - acc: 0.9844    \n",
      "Epoch 7/20\n",
      "60000/60000 [==============================] - 22s - loss: 0.0478 - acc: 0.9852    \n",
      "Epoch 8/20\n",
      "60000/60000 [==============================] - 22s - loss: 0.0419 - acc: 0.9868    \n",
      "Epoch 9/20\n",
      "60000/60000 [==============================] - 21s - loss: 0.0399 - acc: 0.9876    \n",
      "Epoch 10/20\n",
      "60000/60000 [==============================] - 21s - loss: 0.0365 - acc: 0.9884    \n",
      "Epoch 11/20\n",
      "60000/60000 [==============================] - 21s - loss: 0.0330 - acc: 0.9895    \n",
      "Epoch 12/20\n",
      "60000/60000 [==============================] - 21s - loss: 0.0314 - acc: 0.9900    \n",
      "Epoch 13/20\n",
      "60000/60000 [==============================] - 21s - loss: 0.0285 - acc: 0.9910    \n",
      "Epoch 14/20\n",
      "60000/60000 [==============================] - 21s - loss: 0.0292 - acc: 0.9905    \n",
      "Epoch 15/20\n",
      "60000/60000 [==============================] - 22s - loss: 0.0265 - acc: 0.9918    \n",
      "Epoch 16/20\n",
      "60000/60000 [==============================] - 22s - loss: 0.0254 - acc: 0.9923    \n",
      "Epoch 17/20\n",
      "60000/60000 [==============================] - 22s - loss: 0.0254 - acc: 0.9917    \n",
      "Epoch 18/20\n",
      "60000/60000 [==============================] - 22s - loss: 0.0239 - acc: 0.9925    \n",
      "Epoch 19/20\n",
      " 6080/60000 [==>...........................] - ETA: 20s - loss: 0.0263 - acc: 0.9913"
     ]
    }
   ],
   "source": [
    "import time\n",
    "t1 = time.time()\n",
    "model.fit(x_tr, y_tr,\n",
    "         batch_size=32, nb_epoch=20, verbose=1)\n",
    "\n",
    "t2 = time.time()\n",
    "print(\"time taken in trainig:\")\n",
    "print((t2-t1)/100.0)"
   ]
  },
  {
   "cell_type": "code",
   "execution_count": null,
   "metadata": {},
   "outputs": [],
   "source": [
    "score = model.evaluate(x_t, y_t, verbose=0)\n"
   ]
  },
  {
   "cell_type": "code",
   "execution_count": null,
   "metadata": {},
   "outputs": [],
   "source": [
    "print(score)"
   ]
  },
  {
   "cell_type": "code",
   "execution_count": null,
   "metadata": {
    "collapsed": true
   },
   "outputs": [],
   "source": []
  }
 ],
 "metadata": {
  "kernelspec": {
   "display_name": "Python 2",
   "language": "python",
   "name": "python2"
  },
  "language_info": {
   "codemirror_mode": {
    "name": "ipython",
    "version": 2
   },
   "file_extension": ".py",
   "mimetype": "text/x-python",
   "name": "python",
   "nbconvert_exporter": "python",
   "pygments_lexer": "ipython2",
   "version": "2.7.12"
  }
 },
 "nbformat": 4,
 "nbformat_minor": 2
}
